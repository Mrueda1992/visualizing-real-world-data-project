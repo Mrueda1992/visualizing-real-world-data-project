{
 "cells": [
  {
   "cell_type": "code",
   "execution_count": 22,
   "metadata": {},
   "outputs": [],
   "source": [
    "from pymongo import MongoClient\n",
    "import pandas as pd\n",
    "import json\n",
    "\n",
    "client = MongoClient('mongodb://localhost:27017/')\n",
    "db = client.company"
   ]
  },
  {
   "cell_type": "code",
   "execution_count": 23,
   "metadata": {},
   "outputs": [],
   "source": [
    "query = db.geoqueries.find({\"$and\":\n",
    "    [{\"total_USD_raised\":{\"$gte\":1000000}},\n",
    "     {\"$or\":[{\"category_code\":\"web\"},\n",
    "        {\"category_code\":\"design\"},\n",
    "             {\"category_code\":\"games_video\"}]}]})"
   ]
  },
  {
   "cell_type": "code",
   "execution_count": 24,
   "metadata": {},
   "outputs": [
    {
     "data": {
      "text/html": [
       "<div>\n",
       "<style scoped>\n",
       "    .dataframe tbody tr th:only-of-type {\n",
       "        vertical-align: middle;\n",
       "    }\n",
       "\n",
       "    .dataframe tbody tr th {\n",
       "        vertical-align: top;\n",
       "    }\n",
       "\n",
       "    .dataframe thead th {\n",
       "        text-align: right;\n",
       "    }\n",
       "</style>\n",
       "<table border=\"1\" class=\"dataframe\">\n",
       "  <thead>\n",
       "    <tr style=\"text-align: right;\">\n",
       "      <th></th>\n",
       "      <th>_id</th>\n",
       "      <th>category_code</th>\n",
       "      <th>deadpooled_year</th>\n",
       "      <th>founded_year</th>\n",
       "      <th>lat</th>\n",
       "      <th>long</th>\n",
       "      <th>name</th>\n",
       "      <th>number_of_employees</th>\n",
       "      <th>office</th>\n",
       "      <th>oficina</th>\n",
       "      <th>total_USD_raised</th>\n",
       "    </tr>\n",
       "  </thead>\n",
       "  <tbody>\n",
       "    <tr>\n",
       "      <th>0</th>\n",
       "      <td>5d270e89ba9f1bf3ba30777d</td>\n",
       "      <td>games_video</td>\n",
       "      <td>None</td>\n",
       "      <td>2007</td>\n",
       "      <td>40.726155</td>\n",
       "      <td>-73.995625</td>\n",
       "      <td>Livestream</td>\n",
       "      <td>120</td>\n",
       "      <td>{'description': 'Livestream HQ', 'address1': '...</td>\n",
       "      <td>{'type': 'Point', 'coordinates': [-73.995625, ...</td>\n",
       "      <td>14700000</td>\n",
       "    </tr>\n",
       "    <tr>\n",
       "      <th>1</th>\n",
       "      <td>5d270e89ba9f1bf3ba307780</td>\n",
       "      <td>web</td>\n",
       "      <td>None</td>\n",
       "      <td>2007</td>\n",
       "      <td>52.374523</td>\n",
       "      <td>4.894862</td>\n",
       "      <td>Wakoopa</td>\n",
       "      <td>8</td>\n",
       "      <td>{'description': 'Arts &amp; Crafts', 'address1': '...</td>\n",
       "      <td>{'type': 'Point', 'coordinates': [4.8948623, 5...</td>\n",
       "      <td>1000000</td>\n",
       "    </tr>\n",
       "    <tr>\n",
       "      <th>2</th>\n",
       "      <td>5d270e89ba9f1bf3ba307781</td>\n",
       "      <td>web</td>\n",
       "      <td>None</td>\n",
       "      <td>2007</td>\n",
       "      <td>37.269175</td>\n",
       "      <td>-119.306607</td>\n",
       "      <td>SodaHead</td>\n",
       "      <td>25</td>\n",
       "      <td>{'description': '', 'address1': '16161 Ventura...</td>\n",
       "      <td>{'type': 'Point', 'coordinates': [-119.306607,...</td>\n",
       "      <td>12700000</td>\n",
       "    </tr>\n",
       "    <tr>\n",
       "      <th>3</th>\n",
       "      <td>5d270e89ba9f1bf3ba307782</td>\n",
       "      <td>web</td>\n",
       "      <td>None</td>\n",
       "      <td>2007</td>\n",
       "      <td>34.017606</td>\n",
       "      <td>-118.487267</td>\n",
       "      <td>Mahalo</td>\n",
       "      <td>40</td>\n",
       "      <td>{'description': '', 'address1': '3525 Eastham ...</td>\n",
       "      <td>{'type': 'Point', 'coordinates': [-118.487267,...</td>\n",
       "      <td>21000000</td>\n",
       "    </tr>\n",
       "    <tr>\n",
       "      <th>4</th>\n",
       "      <td>5d270e89ba9f1bf3ba307783</td>\n",
       "      <td>games_video</td>\n",
       "      <td>None</td>\n",
       "      <td>2007</td>\n",
       "      <td>40.801358</td>\n",
       "      <td>-74.337200</td>\n",
       "      <td>AdaptiveBlue</td>\n",
       "      <td>15</td>\n",
       "      <td>{'description': '', 'address1': '131 Varick St...</td>\n",
       "      <td>{'type': 'Point', 'coordinates': [-74.3372, 40...</td>\n",
       "      <td>24000000</td>\n",
       "    </tr>\n",
       "  </tbody>\n",
       "</table>\n",
       "</div>"
      ],
      "text/plain": [
       "                        _id category_code deadpooled_year  founded_year  \\\n",
       "0  5d270e89ba9f1bf3ba30777d   games_video            None          2007   \n",
       "1  5d270e89ba9f1bf3ba307780           web            None          2007   \n",
       "2  5d270e89ba9f1bf3ba307781           web            None          2007   \n",
       "3  5d270e89ba9f1bf3ba307782           web            None          2007   \n",
       "4  5d270e89ba9f1bf3ba307783   games_video            None          2007   \n",
       "\n",
       "         lat        long          name  number_of_employees  \\\n",
       "0  40.726155  -73.995625    Livestream                  120   \n",
       "1  52.374523    4.894862       Wakoopa                    8   \n",
       "2  37.269175 -119.306607      SodaHead                   25   \n",
       "3  34.017606 -118.487267        Mahalo                   40   \n",
       "4  40.801358  -74.337200  AdaptiveBlue                   15   \n",
       "\n",
       "                                              office  \\\n",
       "0  {'description': 'Livestream HQ', 'address1': '...   \n",
       "1  {'description': 'Arts & Crafts', 'address1': '...   \n",
       "2  {'description': '', 'address1': '16161 Ventura...   \n",
       "3  {'description': '', 'address1': '3525 Eastham ...   \n",
       "4  {'description': '', 'address1': '131 Varick St...   \n",
       "\n",
       "                                             oficina  total_USD_raised  \n",
       "0  {'type': 'Point', 'coordinates': [-73.995625, ...          14700000  \n",
       "1  {'type': 'Point', 'coordinates': [4.8948623, 5...           1000000  \n",
       "2  {'type': 'Point', 'coordinates': [-119.306607,...          12700000  \n",
       "3  {'type': 'Point', 'coordinates': [-118.487267,...          21000000  \n",
       "4  {'type': 'Point', 'coordinates': [-74.3372, 40...          24000000  "
      ]
     },
     "execution_count": 24,
     "metadata": {},
     "output_type": "execute_result"
    }
   ],
   "source": [
    "data_clean= pd.DataFrame(query)\n",
    "data_clean.head()"
   ]
  },
  {
   "cell_type": "code",
   "execution_count": null,
   "metadata": {},
   "outputs": [],
   "source": []
  },
  {
   "cell_type": "code",
   "execution_count": 25,
   "metadata": {},
   "outputs": [],
   "source": [
    "data_clean = data_clean [['name','category_code','founded_year','lat','long','office','oficina','total_USD_raised']]"
   ]
  },
  {
   "cell_type": "code",
   "execution_count": 26,
   "metadata": {},
   "outputs": [],
   "source": [
    "data_clean.to_json('df_offices2.json', orient= 'records')"
   ]
  },
  {
   "cell_type": "code",
   "execution_count": null,
   "metadata": {},
   "outputs": [],
   "source": []
  },
  {
   "cell_type": "code",
   "execution_count": null,
   "metadata": {},
   "outputs": [],
   "source": []
  },
  {
   "cell_type": "code",
   "execution_count": null,
   "metadata": {},
   "outputs": [],
   "source": []
  },
  {
   "cell_type": "code",
   "execution_count": null,
   "metadata": {},
   "outputs": [],
   "source": []
  }
 ],
 "metadata": {
  "kernelspec": {
   "display_name": "Python 3",
   "language": "python",
   "name": "python3"
  },
  "language_info": {
   "codemirror_mode": {
    "name": "ipython",
    "version": 3
   },
   "file_extension": ".py",
   "mimetype": "text/x-python",
   "name": "python",
   "nbconvert_exporter": "python",
   "pygments_lexer": "ipython3",
   "version": "3.7.3"
  }
 },
 "nbformat": 4,
 "nbformat_minor": 2
}
