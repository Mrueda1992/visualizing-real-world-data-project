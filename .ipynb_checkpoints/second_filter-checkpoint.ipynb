{
 "cells": [
  {
   "cell_type": "code",
   "execution_count": 9,
   "metadata": {},
   "outputs": [],
   "source": [
    "from pymongo import MongoClient\n",
    "import pandas as pd\n",
    "import json\n",
    "\n",
    "client = MongoClient('mongodb://localhost:27017/')\n",
    "db = client.company"
   ]
  },
  {
   "cell_type": "code",
   "execution_count": 10,
   "metadata": {},
   "outputs": [],
   "source": [
    "query = db.geoqueries.find({\"$and\":\n",
    "    [{\"total_USD_raised\":{\"$gte\":1000000}},\n",
    "     {\"$or\":[{\"category_code\":\"web\"},\n",
    "        {\"category_code\":\"design\"},\n",
    "             {\"category_code\":\"games_video\"}]}]})"
   ]
  },
  {
   "cell_type": "code",
   "execution_count": 11,
   "metadata": {},
   "outputs": [
    {
     "data": {
      "text/html": [
       "<div>\n",
       "<style scoped>\n",
       "    .dataframe tbody tr th:only-of-type {\n",
       "        vertical-align: middle;\n",
       "    }\n",
       "\n",
       "    .dataframe tbody tr th {\n",
       "        vertical-align: top;\n",
       "    }\n",
       "\n",
       "    .dataframe thead th {\n",
       "        text-align: right;\n",
       "    }\n",
       "</style>\n",
       "<table border=\"1\" class=\"dataframe\">\n",
       "  <thead>\n",
       "    <tr style=\"text-align: right;\">\n",
       "      <th></th>\n",
       "      <th>_id</th>\n",
       "      <th>category_code</th>\n",
       "      <th>deadpooled_year</th>\n",
       "      <th>founded_year</th>\n",
       "      <th>lat</th>\n",
       "      <th>long</th>\n",
       "      <th>name</th>\n",
       "      <th>number_of_employees</th>\n",
       "      <th>office</th>\n",
       "      <th>oficina</th>\n",
       "      <th>total_USD_raised</th>\n",
       "    </tr>\n",
       "  </thead>\n",
       "  <tbody>\n",
       "    <tr>\n",
       "      <th>0</th>\n",
       "      <td>5d2613a4ba9f1bf3ba300bc3</td>\n",
       "      <td>games_video</td>\n",
       "      <td>None</td>\n",
       "      <td>2007</td>\n",
       "      <td>37.789634</td>\n",
       "      <td>-122.404052</td>\n",
       "      <td>Livestream</td>\n",
       "      <td>120</td>\n",
       "      <td>{'description': 'Livestream HQ', 'address1': '...</td>\n",
       "      <td>{'type': 'Point', 'coordinates': [-122.404052,...</td>\n",
       "      <td>14700000</td>\n",
       "    </tr>\n",
       "    <tr>\n",
       "      <th>1</th>\n",
       "      <td>5d2613a4ba9f1bf3ba300bc4</td>\n",
       "      <td>web</td>\n",
       "      <td>None</td>\n",
       "      <td>2007</td>\n",
       "      <td>37.789634</td>\n",
       "      <td>-122.404052</td>\n",
       "      <td>Mahalo</td>\n",
       "      <td>40</td>\n",
       "      <td>{'description': '', 'address1': '3525 Eastham ...</td>\n",
       "      <td>{'type': 'Point', 'coordinates': [-122.404052,...</td>\n",
       "      <td>21000000</td>\n",
       "    </tr>\n",
       "    <tr>\n",
       "      <th>2</th>\n",
       "      <td>5d2613a4ba9f1bf3ba300bc7</td>\n",
       "      <td>games_video</td>\n",
       "      <td>None</td>\n",
       "      <td>2007</td>\n",
       "      <td>37.789634</td>\n",
       "      <td>-122.404052</td>\n",
       "      <td>AdaptiveBlue</td>\n",
       "      <td>15</td>\n",
       "      <td>{'description': '', 'address1': '131 Varick St...</td>\n",
       "      <td>{'type': 'Point', 'coordinates': [-122.404052,...</td>\n",
       "      <td>24000000</td>\n",
       "    </tr>\n",
       "    <tr>\n",
       "      <th>3</th>\n",
       "      <td>5d2613a4ba9f1bf3ba300bca</td>\n",
       "      <td>web</td>\n",
       "      <td>None</td>\n",
       "      <td>2007</td>\n",
       "      <td>37.789634</td>\n",
       "      <td>-122.404052</td>\n",
       "      <td>SodaHead</td>\n",
       "      <td>25</td>\n",
       "      <td>{'description': '', 'address1': '16161 Ventura...</td>\n",
       "      <td>{'type': 'Point', 'coordinates': [-122.404052,...</td>\n",
       "      <td>12700000</td>\n",
       "    </tr>\n",
       "    <tr>\n",
       "      <th>4</th>\n",
       "      <td>5d2613a4ba9f1bf3ba300bcb</td>\n",
       "      <td>web</td>\n",
       "      <td>None</td>\n",
       "      <td>2007</td>\n",
       "      <td>37.789634</td>\n",
       "      <td>-122.404052</td>\n",
       "      <td>Wakoopa</td>\n",
       "      <td>8</td>\n",
       "      <td>{'description': 'Arts &amp; Crafts', 'address1': '...</td>\n",
       "      <td>{'type': 'Point', 'coordinates': [-122.404052,...</td>\n",
       "      <td>1000000</td>\n",
       "    </tr>\n",
       "  </tbody>\n",
       "</table>\n",
       "</div>"
      ],
      "text/plain": [
       "                        _id category_code deadpooled_year  founded_year  \\\n",
       "0  5d2613a4ba9f1bf3ba300bc3   games_video            None          2007   \n",
       "1  5d2613a4ba9f1bf3ba300bc4           web            None          2007   \n",
       "2  5d2613a4ba9f1bf3ba300bc7   games_video            None          2007   \n",
       "3  5d2613a4ba9f1bf3ba300bca           web            None          2007   \n",
       "4  5d2613a4ba9f1bf3ba300bcb           web            None          2007   \n",
       "\n",
       "         lat        long          name  number_of_employees  \\\n",
       "0  37.789634 -122.404052    Livestream                  120   \n",
       "1  37.789634 -122.404052        Mahalo                   40   \n",
       "2  37.789634 -122.404052  AdaptiveBlue                   15   \n",
       "3  37.789634 -122.404052      SodaHead                   25   \n",
       "4  37.789634 -122.404052       Wakoopa                    8   \n",
       "\n",
       "                                              office  \\\n",
       "0  {'description': 'Livestream HQ', 'address1': '...   \n",
       "1  {'description': '', 'address1': '3525 Eastham ...   \n",
       "2  {'description': '', 'address1': '131 Varick St...   \n",
       "3  {'description': '', 'address1': '16161 Ventura...   \n",
       "4  {'description': 'Arts & Crafts', 'address1': '...   \n",
       "\n",
       "                                             oficina  total_USD_raised  \n",
       "0  {'type': 'Point', 'coordinates': [-122.404052,...          14700000  \n",
       "1  {'type': 'Point', 'coordinates': [-122.404052,...          21000000  \n",
       "2  {'type': 'Point', 'coordinates': [-122.404052,...          24000000  \n",
       "3  {'type': 'Point', 'coordinates': [-122.404052,...          12700000  \n",
       "4  {'type': 'Point', 'coordinates': [-122.404052,...           1000000  "
      ]
     },
     "execution_count": 11,
     "metadata": {},
     "output_type": "execute_result"
    }
   ],
   "source": [
    "data_clean= pd.DataFrame(query)\n",
    "data_clean.head()"
   ]
  },
  {
   "cell_type": "code",
   "execution_count": 12,
   "metadata": {},
   "outputs": [],
   "source": [
    "data_clean = data_clean [['name','category_code','founded_year','lat','long','office','oficina','total_USD_raised']]"
   ]
  },
  {
   "cell_type": "code",
   "execution_count": 13,
   "metadata": {},
   "outputs": [],
   "source": [
    "data_clean.to_json('df_offices2.json', orient= 'records')"
   ]
  },
  {
   "cell_type": "code",
   "execution_count": null,
   "metadata": {},
   "outputs": [],
   "source": []
  },
  {
   "cell_type": "code",
   "execution_count": null,
   "metadata": {},
   "outputs": [],
   "source": []
  },
  {
   "cell_type": "code",
   "execution_count": null,
   "metadata": {},
   "outputs": [],
   "source": []
  },
  {
   "cell_type": "code",
   "execution_count": null,
   "metadata": {},
   "outputs": [],
   "source": []
  }
 ],
 "metadata": {
  "kernelspec": {
   "display_name": "Python 3",
   "language": "python",
   "name": "python3"
  },
  "language_info": {
   "codemirror_mode": {
    "name": "ipython",
    "version": 3
   },
   "file_extension": ".py",
   "mimetype": "text/x-python",
   "name": "python",
   "nbconvert_exporter": "python",
   "pygments_lexer": "ipython3",
   "version": "3.7.3"
  }
 },
 "nbformat": 4,
 "nbformat_minor": 2
}
